{
 "cells": [
  {
   "cell_type": "markdown",
   "metadata": {},
   "source": [
    "data: https://data.gov.uk/dataset/723c243d-2f1a-4d27-8b61-cdb93e5b10ff/uk-local-authority-and-regional-carbon-dioxide-emissions-national-statistics-2005-to-2019"
   ]
  },
  {
   "cell_type": "code",
   "execution_count": null,
   "metadata": {
    "collapsed": true
   },
   "outputs": [],
   "source": [
    "import pandas as pd\n",
    "import numpy as np\n",
    "import geopandas as gpd\n",
    "import matplotlib.pyplot as plt\n",
    "import esda\n",
    "from esda import Moran\n",
    "from libpysal import weights\n",
    "from libpysal.weights.contiguity import Queen\n",
    "from splot.esda import moran_scatterplot, lisa_cluster, plot_local_autocorrelation\n",
    "\n",
    "from mpl_toolkits.axes_grid1.inset_locator import zoomed_inset_axes, mark_inset\n",
    "from mpl_toolkits.axes_grid1.anchored_artists import AnchoredSizeBar\n",
    "import matplotlib.colors as mcolors\n",
    "from matplotlib.colors import LinearSegmentedColormap\n",
    "import matplotlib.font_manager as font_manager\n",
    "import matplotlib.patches as mpatches\n",
    "\n",
    "\n",
    "from esda.getisord import G_Local\n",
    "\n",
    "%matplotlib inline"
   ]
  },
  {
   "cell_type": "code",
   "execution_count": null,
   "metadata": {
    "collapsed": true
   },
   "outputs": [],
   "source": [
    "df_emissions=pd.read_csv(\"data//2005-19_Local_Authority_CO2_emissions.csv\")"
   ]
  },
  {
   "cell_type": "code",
   "execution_count": null,
   "metadata": {
    "collapsed": true
   },
   "outputs": [],
   "source": [
    "df_emissions['LA CO2 Sector'].unique() #Check the sectors available"
   ]
  },
  {
   "cell_type": "code",
   "execution_count": null,
   "metadata": {
    "collapsed": true
   },
   "outputs": [],
   "source": [
    "df_emissions['LA CO2 Sub-sector'].unique()"
   ]
  },
  {
   "cell_type": "code",
   "execution_count": null,
   "metadata": {
    "collapsed": true
   },
   "outputs": [],
   "source": [
    "df_public=df_emissions[(df_emissions['LA CO2 Sector']=='Public Sector') & (df_emissions['Calendar Year']==2019)] #only keep public sector"
   ]
  },
  {
   "cell_type": "code",
   "execution_count": null,
   "metadata": {
    "collapsed": true
   },
   "outputs": [],
   "source": [
    "#get total sum of public sector sub-sectors\n",
    "df_public_grouped=df_public.groupby(['Local Authority','Local Authority Code'])['Territorial emissions (kt CO2)'].sum().reset_index()"
   ]
  },
  {
   "cell_type": "code",
   "execution_count": null,
   "metadata": {
    "collapsed": true
   },
   "outputs": [],
   "source": [
    "df_public_grouped=df_public_grouped.rename(columns={'Territorial emissions (kt CO2)':'co2_kt'})"
   ]
  },
  {
   "cell_type": "code",
   "execution_count": null,
   "metadata": {
    "collapsed": true
   },
   "outputs": [],
   "source": [
    "zipfile = \"zip://data//Local_Authority_Districts__April_2019__UK_BFE_v2-shp.zip!Local_Authority_Districts__April_2019__UK_BFE_v2.shp\""
   ]
  },
  {
   "cell_type": "code",
   "execution_count": null,
   "metadata": {
    "collapsed": true
   },
   "outputs": [],
   "source": [
    "gdf = gpd.read_file(zipfile)"
   ]
  },
  {
   "cell_type": "code",
   "execution_count": null,
   "metadata": {
    "collapsed": true
   },
   "outputs": [],
   "source": [
    "la_co2=gdf.merge(df_public_grouped, left_on='LAD19CD',right_on='Local Authority Code',how='left')"
   ]
  },
  {
   "cell_type": "code",
   "execution_count": null,
   "metadata": {
    "collapsed": true
   },
   "outputs": [],
   "source": [
    "la_co2=la_co2.set_crs(27700,allow_override=True)\n"
   ]
  },
  {
   "cell_type": "code",
   "execution_count": null,
   "metadata": {
    "collapsed": true
   },
   "outputs": [],
   "source": [
    "cities=gpd.read_file(\"data/cities.geojson\")\n",
    "cities=gpd.GeoDataFrame(cities, geometry='geometry',crs=4326)\n",
    "cities=cities.to_crs(27700)"
   ]
  },
  {
   "cell_type": "code",
   "execution_count": null,
   "metadata": {
    "collapsed": true
   },
   "outputs": [],
   "source": [
    "f,ax=plt.subplots(figsize=(22,22))\n",
    "\n",
    "ax.set_axis_off()\n",
    "\n",
    "\n",
    "pallete=['#E2D2FF','#E458A7','#7D2359','#E93630','#2F0202'] #custom cmap\n",
    "\n",
    "cmap = LinearSegmentedColormap.from_list(\n",
    "    'mycmap',pallete)\n",
    "\n",
    "missing_kwds={\n",
    "        \"color\": \"lightgrey\",\n",
    "        \"edgecolor\": \"blue\",\n",
    "        \"hatch\": \"///\",\n",
    "        \"label\": \"Missing values\",\n",
    "    }   #mapping LA's with no Valus\n",
    "\n",
    "la_co2.plot(column='co2_kt', ax=ax, scheme='quantiles', k=5, legend=True,cmap=cmap,legend_kwds={'fontsize': 'xx-large'},\n",
    "            missing_kwds=missing_kwds) #plot UK map\n",
    "\n",
    "#add text to the legend\n",
    "legend=ax.get_legend()\n",
    "font = font_manager.FontProperties(weight='bold',\n",
    "                                   style='normal', size=12)\n",
    "legend.set_title('CO2 Emissions kt (5 quantiles)',prop=font)\n",
    "\n",
    "\n",
    "#title\n",
    "plt.title('Local Authority Public Sector C02 Emission (kt) 2019*', fontsize=32, weight='bold')\n",
    "\n",
    "plt.text(1, -0.03,'*3 Local Authorities missing', ha='center', va='center', transform=ax.transAxes,fontsize=15,weight='bold')\n",
    "\n",
    "#plot cities\n",
    "cities.plot(ax=ax, color='white')\n",
    "\n",
    "for x, y, label in zip(cities.geometry.x, cities.geometry.y, cities.city):\n",
    "    ax.annotate(label, xy=(x, y), xytext=(3, 3), textcoords=\"offset points\",fontsize=12,weight='bold',color='green')\n",
    "\n",
    "\n",
    "#create inset\n",
    "\n",
    "#get bounds (if you don't have numbers just get the bounds of a subset e.g. df[df['region']=='Foo'].total_bounds)\n",
    "london_bounds=[503899.40652557, 157410.44000192, 569337.62687451, 205799.40644699]\n",
    "# nw_bounds=[330811.64,370000,393867.85,430000]\n",
    "\n",
    "#inset map and setting up axes -LDN\n",
    "\n",
    "\n",
    "axins = zoomed_inset_axes(ax, 3, loc=4)\n",
    "minx,miny,maxx,maxy =london_bounds\n",
    "\n",
    "axins.set_xlim(minx, maxx)\n",
    "axins.set_ylim(miny, maxy)\n",
    "\n",
    "axins.tick_params(axis=u'both', which=u'both',length=0)\n",
    "\n",
    "mark_inset(ax, axins, loc1=2, loc2=1, fc=\"none\", ec=\"0.5\")\n",
    "plt.setp(axins.get_xticklabels(), visible=False)\n",
    "plt.setp(axins.get_yticklabels(), visible=False)\n",
    "la_co2.plot(column='co2_kt',ax=axins,scheme='quantiles',k=5, missing_kwds=missing_kwds, cmap=cmap,legend=False)\n",
    "\n",
    "# cities.plot(ax=axins, color='white')\n",
    "\n",
    "\n",
    "# #inset map and setting up axes -NW\n",
    "# axins1 = zoomed_inset_axes(ax, 2, loc=2)\n",
    "\n",
    "# minx1,miny1,maxx1,maxy1 =nw_bounds\n",
    "\n",
    "\n",
    "# axins1.set_xlim(minx1, maxx1)\n",
    "\n",
    "# axins1.set_ylim(miny1, maxy1)\n",
    "\n",
    "# axins1.tick_params(axis=u'both', which=u'both',length=0)\n",
    "# # cmap = LinearSegmentedColormap.from_list(\n",
    "# #     'mycmap',pallete)\n",
    "# mark_inset(ax, axins1, loc1=2, loc2=1, fc=\"none\", ec=\"0.5\")\n",
    "# plt.setp(axins1.get_xticklabels(), visible=False)\n",
    "# plt.setp(axins1.get_yticklabels(), visible=False)\n",
    "# la_co2.plot(column='co2_kt',ax=axins1,scheme='quantiles',k=5, missing_kwds=missing_kwds, cmap=cmap,legend=False)\n",
    "\n",
    "# cities.plot(ax=axins1, color='white')\n",
    "\n",
    "# for x, y, label in zip(cities.geometry.x, cities.geometry.y, cities.city):\n",
    "#     axins1.annotate(label, xy=(x, y), xytext=(-20, 3), textcoords=\"offset points\",fontsize=12,weight='bold', rotation=40,\n",
    "#                     color='blue')\n",
    "\n",
    "\n",
    "plt.show()"
   ]
  },
  {
   "cell_type": "markdown",
   "metadata": {},
   "source": [
    "## Cluster Analysis (Pysal)"
   ]
  },
  {
   "cell_type": "code",
   "execution_count": null,
   "metadata": {
    "collapsed": true
   },
   "outputs": [],
   "source": [
    "w=weights.Queen.from_dataframe(la_co2, idVariable='LAD19CD')"
   ]
  },
  {
   "cell_type": "code",
   "execution_count": null,
   "metadata": {
    "collapsed": true
   },
   "outputs": [],
   "source": [
    "gdf_noi=la_co2.set_index('LAD19CD').drop(w.islands).reset_index()"
   ]
  },
  {
   "cell_type": "code",
   "execution_count": null,
   "metadata": {
    "collapsed": true
   },
   "outputs": [],
   "source": [
    "w=weights.Queen.from_dataframe(gdf_noi, idVariable='LAD19CD')"
   ]
  },
  {
   "cell_type": "code",
   "execution_count": null,
   "metadata": {
    "collapsed": true
   },
   "outputs": [],
   "source": [
    "w.islands"
   ]
  },
  {
   "cell_type": "code",
   "execution_count": null,
   "metadata": {
    "collapsed": true
   },
   "outputs": [],
   "source": [
    "w.transform='R'"
   ]
  },
  {
   "cell_type": "code",
   "execution_count": null,
   "metadata": {
    "collapsed": true
   },
   "outputs": [],
   "source": [
    "gdf_noi['w_co2']=weights.lag_spatial(w,gdf_noi['co2_kt'])"
   ]
  },
  {
   "cell_type": "code",
   "execution_count": null,
   "metadata": {
    "collapsed": true
   },
   "outputs": [],
   "source": [
    "lisa=esda.Moran_Local(gdf_noi['co2_kt'],w)"
   ]
  },
  {
   "cell_type": "code",
   "execution_count": null,
   "metadata": {
    "collapsed": true
   },
   "outputs": [],
   "source": [
    "f,ax=plt.subplots(figsize=(30,30))\n",
    "lisa_cluster(lisa,gdf_noi,ax=ax)"
   ]
  },
  {
   "cell_type": "markdown",
   "metadata": {},
   "source": [
    "## Cluster Analysis g*-ord"
   ]
  },
  {
   "cell_type": "code",
   "execution_count": null,
   "metadata": {
    "collapsed": true
   },
   "outputs": [],
   "source": [
    "# def filter_out_london_lsoas(df):\n",
    "#     \"\"\"\n",
    "#     function to filter out London LSOAs\n",
    "#     \"\"\"\n",
    "    \n",
    "#     searchfor = ['City of London', 'Barking and Dagenham', 'Barnet', 'Bexley'\n",
    "#            , 'Brent 0', 'Bromley', 'Camden', 'Croydon', 'Ealing', 'Enfield',\n",
    "#              'Greenwich', 'Hackney', 'Hammersmith and Fulham', 'Haringey'\n",
    "#              , 'Harrow', 'Havering', 'Hillingdon', 'Hounslow', 'Islington',\n",
    "#              'Kensington and Chelsea', 'Kingston upon Thames', 'Lambeth', \n",
    "#              'Lewisham', 'Merton', 'Newham', 'Redbridge', 'Richmond upon Thames', \n",
    "#              'Southwark', 'Sutton', 'Tower Hamlets', 'Waltham Forest', 'Wandsworth', 'Westminster']\n",
    "\n",
    "#     #make df for just london\n",
    "#     df= df[df['LSOA11NM'].str.contains('|'.join(searchfor))]\n",
    "    \n",
    "#     return df\n",
    "def create_weights_and_gstar(df,col):\n",
    "    \n",
    "    if 'index' not in df.columns.tolist():  #need this for creating weight s\n",
    "        df=df.reset_index()\n",
    "    \n",
    "    \n",
    "    # Create the spatial weights matrix using queens neighbourhood\n",
    "    w = weights.Queen.from_dataframe(df, idVariable='index')\n",
    "    \n",
    "    #drop all islands from dataframe\n",
    "    df=df.drop(w.islands, axis=0)\n",
    "    #need to recreate spatial weights matrix after removing islands\n",
    "    w = weights.Queen.from_dataframe(df, idVariable='index')\n",
    "    \n",
    "    # Row standardize the matrix\n",
    "    w.transform = 'R'\n",
    "    \n",
    "#     #spatial lag of column\n",
    "#     df['w_{}'.format(col)] = weights.lag_spatial(w, df[col])\n",
    "    \n",
    "    g= esda.getisord.G_Local(df[f'{col}'], w, star=True)  \n",
    "    \n",
    "    df['sig']=g.p_sim < 0.05\n",
    "    df['hh']=g.Zs > 0\n",
    "    df['ll']=g.Zs < 0\n",
    "    \n",
    "    \n",
    "    return df\n",
    "\n",
    "def geostar_map(df, ax):\n",
    "    '''\n",
    "    Create a cluster map\n",
    "    ...\n",
    "    \n",
    "    Arguments\n",
    "    ---------\n",
    "    g     :  G_Local Gi*\n",
    "             Object from the computation of the G statistic\n",
    "    geog   : GeoDataFrame\n",
    "             Table aligned with values in `g` and containing \n",
    "             the geometries to plot\n",
    "    ax     : AxesSubplot\n",
    "             `matplotlib` axis to draw the map on\n",
    "\n",
    "    Returns\n",
    "    -------\n",
    "    ax     : AxesSubplot\n",
    "             Axis with the map drawn\n",
    "    '''\n",
    "    ec = '0.8'\n",
    "    \n",
    "    # Plot non-significant clusters\n",
    "    ns = df.loc[df.sig==False, 'geometry']\n",
    "    ns.plot(ax=ax, color='lightgrey', edgecolor=ec, linewidth=0.1, aspect=1)\n",
    "    # Plot HH clusters\n",
    "    hh = df.loc[(df.hh==True) & (df.sig==True), 'geometry']\n",
    "    hh.plot(ax=ax, color='crimson', edgecolor=ec, linewidth=0.1,  aspect=1)\n",
    "    # Plot LL clusters\n",
    "    ll = df.loc[(df.ll) & (df.sig==True), 'geometry']\n",
    "    ll.plot(ax=ax, color='royalblue', edgecolor=ec, linewidth=0.1,  aspect=1)\n",
    "    \n",
    "    return ax\n",
    "\n",
    "def plot_g_map_with_inset(gdf,col):\n",
    "    \"\"\"\n",
    "    plot spatial autocorrelation map with inset\n",
    "    Params:\n",
    "    gdf: geopandas dataframe\n",
    "    col: str, column name where LISA is being explored\n",
    "    \"\"\"\n",
    "    \n",
    "    df_lisa=gdf.copy()  #create a copy df to plot the local indicator of spatial autocorrelation\n",
    "    df_lisa=create_weights_and_gstar(df_lisa,col)\n",
    "    \n",
    "\n",
    "    f,ax=plt.subplots(figsize=(20,20))\n",
    "    ax.set_axis_off()\n",
    "    \n",
    "    geostar_map(df_lisa, ax=ax)\n",
    "    \n",
    "#     df_lisa_london=filter_out_london_lsoas(df_lisa)\n",
    "    \n",
    "#     minx,miny,maxx,maxy =  df_lisa_london.total_bounds\n",
    "\n",
    "    \n",
    "#     axins = zoomed_inset_axes(ax, 3, loc=2)\n",
    "#     axins.set_xlim(minx, maxx)\n",
    "#     axins.set_ylim(miny, maxy)\n",
    "#     axins.tick_params(axis=u'both', which=u'both',length=0)\n",
    "\n",
    "#     plt.setp(axins.get_xticklabels(), visible=False)\n",
    "#     plt.setp(axins.get_yticklabels(), visible=False)\n",
    "    \n",
    "#     geostar_map(df_lisa_london,ax=axins)\n",
    "    \n",
    "    ax.set_title('Local indicator of spatial autocorrelation using Gi* for {}'.format(col), size=15)\n",
    "    \n",
    "    #add legend\n",
    "    red_patch = mpatches.Patch(color='crimson', label='Hotspot')\n",
    "    blue_patch = mpatches.Patch(color='royalblue', label='Coldspot')\n",
    "    grey_patch = mpatches.Patch(color='lightgrey', label='Not significant')\n",
    "\n",
    "\n",
    "\n",
    "    ax.legend(loc=1, handles=[red_patch, blue_patch, grey_patch], fontsize= 14)\n",
    "\n",
    "    \n",
    "    return plt.show()\n",
    "    #return plt.savefig(\"gi_star for {}.png\".format(col))\n"
   ]
  },
  {
   "cell_type": "code",
   "execution_count": null,
   "metadata": {
    "collapsed": true
   },
   "outputs": [],
   "source": [
    "la_co2['co2_kt'].plot()"
   ]
  },
  {
   "cell_type": "code",
   "execution_count": null,
   "metadata": {
    "collapsed": true
   },
   "outputs": [],
   "source": [
    "plot_g_map_with_inset(la_co2,'co2_kt')"
   ]
  },
  {
   "cell_type": "markdown",
   "metadata": {},
   "source": [
    "### Global Moran's I (test)"
   ]
  },
  {
   "cell_type": "code",
   "execution_count": null,
   "metadata": {
    "collapsed": true
   },
   "outputs": [],
   "source": [
    "def plot_global_morans_i(gdf, column):\n",
    "    \n",
    "    df=gdf.copy()\n",
    "    \n",
    "    if 'index' not in df.columns.tolist():  #need this for creating weight s\n",
    "        df=df.reset_index()\n",
    "    \n",
    "    \n",
    "    # Create the spatial weights matrix using queens neighbourhood\n",
    "    w = weights.Queen.from_dataframe(df, idVariable='index')\n",
    "    \n",
    "    #drop all islands from dataframe\n",
    "    df=df.drop(w.islands, axis=0)\n",
    "    #need to recreate spatial weights matrix after removing islands\n",
    "    w = weights.Queen.from_dataframe(df, idVariable='index')\n",
    "    \n",
    "    y = df[column].values\n",
    "\n",
    "    moran = Moran(y, w)\n",
    "    \n",
    "    \n",
    "    \n",
    "    fig, ax = plt.subplots(figsize=(15,15))\n",
    "    \n",
    "    moran_scatterplot(moran, aspect_equal=True,ax=ax)\n",
    "    ax.set_title(\"Global Moran Scatter plot for {} with Score:{} and significance:{}.\".format(column, moran.I.round(2), moran.p_sim))\n",
    "    \n",
    "    return plt.show()"
   ]
  }
 ],
 "metadata": {
  "kernelspec": {
   "display_name": "Python 3",
   "language": "python",
   "name": "python3"
  },
  "language_info": {
   "codemirror_mode": {
    "name": "ipython",
    "version": 3
   },
   "file_extension": ".py",
   "mimetype": "text/x-python",
   "name": "python",
   "nbconvert_exporter": "python",
   "pygments_lexer": "ipython3",
   "version": "3.6.1"
  }
 },
 "nbformat": 4,
 "nbformat_minor": 2
}
